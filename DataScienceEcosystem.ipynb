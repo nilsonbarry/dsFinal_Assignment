{
 "cells": [
  {
   "cell_type": "markdown",
   "id": "72c31533-16b2-4470-b47a-5cd95190bd93",
   "metadata": {},
   "source": [
    "# Data Science Tools and Ecosystem"
   ]
  },
  {
   "cell_type": "markdown",
   "id": "e2f6f49a-8664-448d-8e53-b30635ab71b1",
   "metadata": {},
   "source": [
    "In this notebook, Data Science Tools and Ecosystem are summarized."
   ]
  },
  {
   "cell_type": "markdown",
   "id": "018ed672-24a2-4114-976a-79ff0f45f28f",
   "metadata": {},
   "source": [
    "**Objectives:**\n",
    "- Python\n",
    "- R studio\n",
    "- Jupyter"
   ]
  },
  {
   "cell_type": "markdown",
   "id": "43363012-fa05-4f24-92bf-07a069c36138",
   "metadata": {},
   "source": [
    "Some of the popular languages that Data Scientists use are:\n",
    "\n",
    "1. Python\n",
    "2. Julia\n",
    "3. SQL"
   ]
  },
  {
   "cell_type": "markdown",
   "id": "b4277a86-03e4-4cb8-8617-a379217eabb2",
   "metadata": {},
   "source": [
    "Some of the commonly used libraries used by Data Scientists include:"
   ]
  },
  {
   "cell_type": "markdown",
   "id": "00483834-52f7-43fe-881a-fb118474942d",
   "metadata": {},
   "source": [
    "1. Plotly\n",
    "2. Caret\n",
    "3. data.table"
   ]
  },
  {
   "cell_type": "markdown",
   "id": "93297b0a-8888-4707-9235-6fe37ba3465f",
   "metadata": {},
   "source": [
    "| Data Science | Tools |\n",
    "|--------------|-------|\n",
    "| R Studio | Workspace management |\n",
    "| Jupyter Notebook | machine learning |\n",
    "| VS Code | Python |"
   ]
  },
  {
   "cell_type": "markdown",
   "id": "9b60fe2f-0f57-4791-8d45-295d2f3f84c3",
   "metadata": {},
   "source": [
    "### Below are a few examples of evaluating arithmetic expressions in Python"
   ]
  },
  {
   "cell_type": "code",
   "execution_count": 15,
   "id": "3a99a546-44db-4d54-8666-cc898f56b023",
   "metadata": {},
   "outputs": [],
   "source": [
    "#This a simple arithmetic expression to mutiply then add integers"
   ]
  },
  {
   "cell_type": "code",
   "execution_count": 17,
   "id": "09e8c952-d1ee-4ad1-af47-d00bb4ee5b15",
   "metadata": {},
   "outputs": [
    {
     "data": {
      "text/plain": [
       "17"
      ]
     },
     "execution_count": 17,
     "metadata": {},
     "output_type": "execute_result"
    }
   ],
   "source": [
    "(3*4)+5"
   ]
  },
  {
   "cell_type": "code",
   "execution_count": 25,
   "id": "3d9f5e6e-4168-4424-bc45-2c5fda961910",
   "metadata": {},
   "outputs": [
    {
     "name": "stdout",
     "output_type": "stream",
     "text": [
      "200 minutes is equal to 3.3333333333333335 hours\n"
     ]
    }
   ],
   "source": [
    "#This will convert minutes to hours.\n",
    "\n",
    "def minutes_to_hours(minutes):\n",
    "    hours = minutes / 60\n",
    "    return hours\n",
    "\n",
    "minutes = 200\n",
    "hours = minutes_to_hours(minutes)\n",
    "\n",
    "print(f\"{minutes} minutes is equal to {hours} hours\")"
   ]
  },
  {
   "cell_type": "markdown",
   "id": "84229d53-e1fe-4ca2-b5e6-dae1b69190bb",
   "metadata": {},
   "source": [
    "## Author: "
   ]
  },
  {
   "cell_type": "markdown",
   "id": "a0945b97-2a8c-47d2-9a68-d5478ce48670",
   "metadata": {},
   "source": [
    "Moussa Barry"
   ]
  },
  {
   "cell_type": "code",
   "execution_count": null,
   "id": "7e944917-fa7d-4ff6-89b5-dc48a50dd8d8",
   "metadata": {},
   "outputs": [],
   "source": []
  }
 ],
 "metadata": {
  "kernelspec": {
   "display_name": "Python 3 (ipykernel)",
   "language": "python",
   "name": "python3"
  },
  "language_info": {
   "codemirror_mode": {
    "name": "ipython",
    "version": 3
   },
   "file_extension": ".py",
   "mimetype": "text/x-python",
   "name": "python",
   "nbconvert_exporter": "python",
   "pygments_lexer": "ipython3",
   "version": "3.12.4"
  }
 },
 "nbformat": 4,
 "nbformat_minor": 5
}
